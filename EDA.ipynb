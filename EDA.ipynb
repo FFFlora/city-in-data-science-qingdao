{
 "cells": [
  {
   "cell_type": "code",
   "execution_count": 1,
   "metadata": {},
   "outputs": [],
   "source": [
    "import pandas as pd \n",
    "import matplotlib.pyplot as plt\n",
    "# %matplotlib notebook\n"
   ]
  },
  {
   "cell_type": "code",
   "execution_count": 11,
   "metadata": {
    "scrolled": true
   },
   "outputs": [
    {
     "data": {
      "text/plain": [
       "['标题',\n",
       " '挂牌价格/万',\n",
       " '元/平米',\n",
       " 'tags',\n",
       " '小区名',\n",
       " '几室几厅',\n",
       " '总面积',\n",
       " '装修情况',\n",
       " '有无电梯',\n",
       " '别墅',\n",
       " '朝向',\n",
       " '区域',\n",
       " '楼层高低',\n",
       " '楼共有几层',\n",
       " '建造年份',\n",
       " '建筑形式',\n",
       " '几人关注',\n",
       " '带看次数',\n",
       " '多久以前发布',\n",
       " '几月以前发布',\n",
       " '几年以前发布',\n",
       " '几天以前发布']"
      ]
     },
     "execution_count": 11,
     "metadata": {},
     "output_type": "execute_result"
    }
   ],
   "source": [
    "housedata =  pd.read_csv('data/lianjia100_clean.csv')\n",
    "list(housedata.columns)"
   ]
  },
  {
   "cell_type": "code",
   "execution_count": 17,
   "metadata": {
    "scrolled": true
   },
   "outputs": [
    {
     "data": {
      "text/plain": [
       "array([' 即墨', ' 香江路', ' 薛家岛', ' 李沧万达', ' 唐岛湾', ' 夏庄', ' 女姑', ' 石老人',\n",
       "       ' 胶南', ' 四方实验小区', ' 错埠岭', ' 流亭', ' 新都心', ' 下王埠', ' 八大湖', ' 北仲',\n",
       "       ' 十梅庵', ' 国信体育场', ' 台东', ' 东方影都', ' 镇江路', ' 理工大学', ' 海泊河', ' 团岛',\n",
       "       ' 合肥路佳世客', ' 河南', ' 书院路', ' 崂山CBD', ' 金沙滩', ' 保税区', ' 北村', ' 胶州',\n",
       "       ' 黄岛区政府', ' 瑞阳路', ' 中央CBD', ' 同安路', ' 枣儿山', ' 惜福镇', ' 辛安', ' 榉林公园',\n",
       "       ' 远洋广场', ' 海云庵', ' 天山银海', ' 浮山后', ' 新贵都', ' 家佳源', ' 石油大学', ' 田家花园',\n",
       "       ' 水清沟', ' 积米崖', ' 闫家山', ' 雕塑园', ' 大尧', ' 福州北路', ' 汽车东站', ' 河西',\n",
       "       ' 农业大学', ' 福安', ' 李村公园', ' 麦岛', ' 湖岛', ' 啤酒街', ' 大沙路', ' 西镇',\n",
       "       ' 沧口公园', ' 湛山', ' 北岭', ' 城阳立交', ' 绿城', ' 西姜', ' 世纪公园', ' 黄岛港',\n",
       "       ' 大学路', ' 灵山卫', ' 世园会', ' 东李', ' 八大关', ' 沙岭庄', ' 天泰', ' 科技大学',\n",
       "       ' 城阳实验二小', ' 东南山', ' 张村', ' 奥帆中心', ' 大港小港', ' 辛家庄', ' 五四广场',\n",
       "       ' 青岛北站', ' 老鸦岭', ' 沙子口', ' 闽江路', ' 午山', ' 中山公园', ' 西韩', ' 松山后',\n",
       "       ' 娄山后', ' 文登路', ' 火车站', ' 太阳城', ' 黄岛轮渡'], dtype=object)"
      ]
     },
     "execution_count": 17,
     "metadata": {},
     "output_type": "execute_result"
    }
   ],
   "source": [
    "housedata['区域'].unique()"
   ]
  },
  {
   "cell_type": "code",
   "execution_count": null,
   "metadata": {},
   "outputs": [],
   "source": []
  }
 ],
 "metadata": {
  "kernelspec": {
   "display_name": "Python 3",
   "language": "python",
   "name": "python3"
  },
  "language_info": {
   "codemirror_mode": {
    "name": "ipython",
    "version": 3
   },
   "file_extension": ".py",
   "mimetype": "text/x-python",
   "name": "python",
   "nbconvert_exporter": "python",
   "pygments_lexer": "ipython3",
   "version": "3.7.0"
  }
 },
 "nbformat": 4,
 "nbformat_minor": 2
}
